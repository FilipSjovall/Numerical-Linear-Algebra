{
 "cells": [
  {
   "cell_type": "markdown",
   "id": "f4843343",
   "metadata": {},
   "source": [
    "# **Assignment 2**\n"
   ]
  },
  {
   "cell_type": "code",
   "execution_count": 1,
   "id": "be0f673a",
   "metadata": {
    "ExecuteTime": {
     "end_time": "2022-09-08T07:10:33.876728Z",
     "start_time": "2022-09-08T07:10:33.630628Z"
    }
   },
   "outputs": [],
   "source": [
    "import numpy as np\n",
    "import scipy as sp\n",
    "import matplotlib as mp"
   ]
  },
  {
   "cell_type": "markdown",
   "id": "13929ee1",
   "metadata": {},
   "source": [
    "### **Task 1**\n",
    "We consider the Graham-Schmidt process of orthogonalizing a set of vectors by concurrent subtraction of their reflections\n",
    "\\begin{equation}\\label{eq:}\n",
    "q_1 = q_i - proj_v_1(v_i)\n",
    "\\end{equation}\n"
   ]
  },
  {
   "cell_type": "code",
   "execution_count": 2,
   "id": "2cb2c788",
   "metadata": {
    "ExecuteTime": {
     "end_time": "2022-09-08T07:10:35.087010Z",
     "start_time": "2022-09-08T07:10:35.075501Z"
    }
   },
   "outputs": [],
   "source": [
    "class Orthogonalization:\n",
    "    #\n",
    "    # def __init__(self,args):\n",
    "        # self.arg1 = arg[0] ... etc\n",
    "    #\n",
    "    def gramschmidt(A):\n",
    "        return a**2"
   ]
  }
 ],
 "metadata": {
  "kernelspec": {
   "display_name": "Python 3 (ipykernel)",
   "language": "python",
   "name": "python3"
  },
  "language_info": {
   "codemirror_mode": {
    "name": "ipython",
    "version": 3
   },
   "file_extension": ".py",
   "mimetype": "text/x-python",
   "name": "python",
   "nbconvert_exporter": "python",
   "pygments_lexer": "ipython3",
   "version": "3.9.7"
  },
  "latex_envs": {
   "LaTeX_envs_menu_present": true,
   "autoclose": false,
   "autocomplete": true,
   "bibliofile": "biblio.bib",
   "cite_by": "apalike",
   "current_citInitial": 1,
   "eqLabelWithNumbers": true,
   "eqNumInitial": 1,
   "hotkeys": {
    "equation": "Ctrl-E",
    "itemize": "Ctrl-I"
   },
   "labels_anchors": false,
   "latex_user_defs": false,
   "report_style_numbering": false,
   "user_envs_cfg": false
  },
  "varInspector": {
   "cols": {
    "lenName": 16,
    "lenType": 16,
    "lenVar": 40
   },
   "kernels_config": {
    "python": {
     "delete_cmd_postfix": "",
     "delete_cmd_prefix": "del ",
     "library": "var_list.py",
     "varRefreshCmd": "print(var_dic_list())"
    },
    "r": {
     "delete_cmd_postfix": ") ",
     "delete_cmd_prefix": "rm(",
     "library": "var_list.r",
     "varRefreshCmd": "cat(var_dic_list()) "
    }
   },
   "types_to_exclude": [
    "module",
    "function",
    "builtin_function_or_method",
    "instance",
    "_Feature"
   ],
   "window_display": false
  }
 },
 "nbformat": 4,
 "nbformat_minor": 5
}
