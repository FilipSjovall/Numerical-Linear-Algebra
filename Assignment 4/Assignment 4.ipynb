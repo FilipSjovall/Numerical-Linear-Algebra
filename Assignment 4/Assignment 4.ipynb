{
 "cells": [
  {
   "cell_type": "markdown",
   "id": "b4d105e9",
   "metadata": {},
   "source": [
    "# Task 1\n",
    "Rank and decompositions. The rank of a matrix can be numerically determined by use of the LU or QR decomposition or by an SVD. For the LU and QR decomposition we the rank is found from the number of nonzero rows in the U resp. R matrices and for the SVD it can be found simply by identifying the number of nonzero singular values."
   ]
  },
  {
   "cell_type": "code",
   "execution_count": 4,
   "id": "4daffca8",
   "metadata": {
    "ExecuteTime": {
     "end_time": "2022-10-11T12:46:05.018275Z",
     "start_time": "2022-10-11T12:46:04.991186Z"
    }
   },
   "outputs": [],
   "source": [
    "from numpy import *\n",
    "from numpy import linalg\n",
    "from matplotlib.pyplot import *\n",
    "import scipy\n",
    "from scipy import linalg as sl\n",
    "\n",
    "def Kahan(theta,n):\n",
    "    s = sin(theta)\n",
    "    c = cos(theta)\n",
    "    R = zeros([n,n])\n",
    "    S = zeros([n,n])\n",
    "    for i in range(n):\n",
    "        S[i,i] = sin(theta)**(i)\n",
    "        for j in range(i+1,n):\n",
    "            R[i,j] = c\n",
    "        R[i,i] = 1\n",
    "    A = (S@R).T @ (S@R)\n",
    "    return A\n",
    "\n",
    "def find_rank_svd(A):\n",
    "    U,S,V = linalg.svd(A)\n",
    "    return count_nonzero(S)\n",
    "\n",
    "def find_rank_QR(A):\n",
    "    Q,R = linalg.qr(A)\n",
    "    return where(sum(A>1e-6, axis=1) < 3)"
   ]
  },
  {
   "cell_type": "markdown",
   "id": "5b1304b1",
   "metadata": {},
   "source": [
    "We consider the Kahan matrix determined by the function above. The task is to investigate the rank of this matrix for different angles $\\theta$ and sizes n."
   ]
  },
  {
   "cell_type": "code",
   "execution_count": 7,
   "id": "c0ddb7a6",
   "metadata": {
    "ExecuteTime": {
     "end_time": "2022-10-11T12:46:40.550020Z",
     "start_time": "2022-10-11T12:46:40.518628Z"
    }
   },
   "outputs": [
    {
     "data": {
      "text/plain": [
       "(array([], dtype=int64),)"
      ]
     },
     "execution_count": 7,
     "metadata": {},
     "output_type": "execute_result"
    }
   ],
   "source": [
    "A = random.rand(5,5)\n",
    "\n",
    "tA = Kahan(1.2,90)\n",
    "\n",
    "\n",
    "find_rank_svd(tA)\n",
    "\n",
    "find_rank_QR(tA)\n"
   ]
  },
  {
   "cell_type": "markdown",
   "id": "55a30506",
   "metadata": {},
   "source": [
    "# Task 2\n",
    "Show that the null space of a $\\mathcal{N}(A)$ is orthogonal to $\\text{text}(A^T)$, i.e. the rowspace of A.\n",
    "\n",
    "$\\mathcal{N}(A)$ is the space spanned by vectors satisfying \n",
    "\\begin{equation}\n",
    " Ax = 0,\n",
    "\\end{equation}\n",
    "which can be written\n",
    "\\begin{equation}\n",
    "    Ax = \\sum_{i=1}^n a_i x = 0,\n",
    "\\end{equation}\n",
    "where $a_i$ are the vectors spanning the rowspace of A. Thus the rowspace and kernel are orthogonal.\n"
   ]
  },
  {
   "cell_type": "markdown",
   "id": "599f429b",
   "metadata": {},
   "source": [
    "# Task 3\n",
    "Show that a hyperlink matrix with $r$ clusters will have atleast $r$ eigenvalues $\\lambda=1$. The hyperlink matrix $H$ is defined as\n",
    "\\begin{equation}\n",
    " h_{ij} = \n",
    " \\begin{cases}\n",
    " 1/h_j & \\text{if} & w_i & \\in \\text{ Neighbourhood of i}\\\\\n",
    " 0     & \\text{else} \n",
    " \\end{cases}\n",
    "\\end{equation}\n",
    "Assuming the hyperlink matrix can be rearranged such that each cluster is grouped (multiplication with a permutation matrix, which is orthogonal and would thus not change the eigenvalues). The resulting permuted matrix is then basically a collection of submatrices which each are stochastic matrices, that each naturally will have one eigenvalue $\\lambda = 1$. Thus the rank of the sought after eigenspace is atleast $r$ if $H$ contains $r$ clusters. The permutated H will be a block diagonal matrix, for which the determinant is\n",
    "\\begin{equation}\n",
    "\\text{det} H = \\Pi_{i=1}^p H_i,\n",
    "\\end{equation}\n",
    "where $p$ would be the number of blocks. In turn each block is a stochastic matrix (one eigenvalue $\\lambda=1$).\n",
    "\n",
    "[ https://proofwiki.org/wiki/Determinant_of_Block_Diagonal_Matrix ]"
   ]
  },
  {
   "cell_type": "markdown",
   "id": "1e029fc4",
   "metadata": {},
   "source": [
    "# Task 4\n",
    "Consider a symmetric $n \\times n $ decomposed by an LDL-decomposition into\n",
    "\\begin{equation}\\label{eq:}\n",
    "A = LDL^T,\n",
    "\\end{equation}\n",
    "where L is lower triangular and D diagonal. When are the diagonal elements of D equal to the eigenvalues of A and when are they not? "
   ]
  },
  {
   "cell_type": "markdown",
   "id": "e48a60e4",
   "metadata": {},
   "source": [
    "A: This is ... "
   ]
  },
  {
   "attachments": {},
   "cell_type": "markdown",
   "id": "55d71590",
   "metadata": {},
   "source": [
    "# Task 5\n",
    "Is the finite difference matrix $A$ singular or nonsingular?\n",
    " - One way to prove that it is positive definite and thus nonsingular is to write out $v^T A v$ and see that it is greater than 0 as we get the sum $v_1^2 + v_2^2 .... + v_n^2 > 0 , \\forall v\\neq 0$. This sum is more elegantly written \n",
    "\\begin{equation}\n",
    "v^T A v =  \\sum_{j=2}^{n-1} (v_j^2 - v_jv_{j-1} )^2 \\geq 0,\n",
    "\\end{equation}\n",
    "which means that A is positive semi definite. \n",
    "\n",
    "The linear system asked for results from the backwards finite difference discretization\n",
    "\\begin{equation}\n",
    "u'(x_i) = \\frac{u_i - u_{i-1}}{\\Delta x},\n",
    "\\end{equation}\n",
    "which gives for the poisson equation\n",
    "\\begin{equation}\n",
    "u''(x_i) = \\frac{u_i - 2u_{i-1} + u_{i-2}}{\\Delta x^2}.\n",
    "\\end{equation}\n",
    "Using this scheme we obtain for the system of equations of the type\n",
    "\\begin{align}\n",
    " u''_1 &= ... \\\\\n",
    " u''_2 &= ... \\\\\n",
    " u''_3 &= \\frac{u_3 - 2u_2 + u_1}{\\Delta x^2} \\\\\n",
    " &\\vdots \\\\\n",
    " u_n   &= \\frac{u_n - 2u_{n-1} + u_{n-2}}{\\Delta x^2} ,\n",
    "\\end{align}\n",
    "which of course are a bunch of stencil operations that can be collected in a matrix. The only question left is how to deal with $u''_1, u''_2$ which can be dealt with in a few ways\n",
    "- Second order central or forward differences can be employed\n",
    "- \"Missing terms $u_0,u_{-1},..$ can be simply left out\n",
    "- Dirichlet boundary conditions are usually employed at endpoints and then we may not need the first row (and or final row) of the system. \n",
    "\n",
    " "
   ]
  }
 ],
 "metadata": {
  "kernelspec": {
   "display_name": "Python 3 (ipykernel)",
   "language": "python",
   "name": "python3"
  },
  "language_info": {
   "codemirror_mode": {
    "name": "ipython",
    "version": 3
   },
   "file_extension": ".py",
   "mimetype": "text/x-python",
   "name": "python",
   "nbconvert_exporter": "python",
   "pygments_lexer": "ipython3",
   "version": "3.9.7"
  },
  "latex_envs": {
   "LaTeX_envs_menu_present": true,
   "autoclose": false,
   "autocomplete": true,
   "bibliofile": "biblio.bib",
   "cite_by": "apalike",
   "current_citInitial": 1,
   "eqLabelWithNumbers": true,
   "eqNumInitial": 1,
   "hotkeys": {
    "equation": "Ctrl-E",
    "itemize": "Ctrl-I"
   },
   "labels_anchors": false,
   "latex_user_defs": false,
   "report_style_numbering": false,
   "user_envs_cfg": false
  },
  "varInspector": {
   "cols": {
    "lenName": 16,
    "lenType": 16,
    "lenVar": 40
   },
   "kernels_config": {
    "python": {
     "delete_cmd_postfix": "",
     "delete_cmd_prefix": "del ",
     "library": "var_list.py",
     "varRefreshCmd": "print(var_dic_list())"
    },
    "r": {
     "delete_cmd_postfix": ") ",
     "delete_cmd_prefix": "rm(",
     "library": "var_list.r",
     "varRefreshCmd": "cat(var_dic_list()) "
    }
   },
   "types_to_exclude": [
    "module",
    "function",
    "builtin_function_or_method",
    "instance",
    "_Feature"
   ],
   "window_display": false
  }
 },
 "nbformat": 4,
 "nbformat_minor": 5
}
