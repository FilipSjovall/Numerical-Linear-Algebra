{
 "cells": [
  {
   "cell_type": "markdown",
   "id": "b4d105e9",
   "metadata": {},
   "source": [
    "# Task 1\n",
    "Rank and decompositions. The rank of a matrix can be numerically determined by use of the LU or QR decomposition or by an SVD. For the LU and QR decomposition we the rank is found from the number of nonzero rows in the U resp. R matrices and for the SVD it can be found simply by identifying the number of nonzero singular values."
   ]
  },
  {
   "cell_type": "code",
   "execution_count": 59,
   "id": "4daffca8",
   "metadata": {
    "ExecuteTime": {
     "end_time": "2022-10-03T12:39:05.273840Z",
     "start_time": "2022-10-03T12:39:05.248088Z"
    }
   },
   "outputs": [],
   "source": [
    "from numpy import *\n",
    "from numpy import linalg\n",
    "from matplotlib.pyplot import *\n",
    "import scipy\n",
    "from scipy import linalg as sl\n",
    "\n",
    "def Kahan(theta,n):\n",
    "    s = sin(theta)\n",
    "    c = cos(theta)\n",
    "    R = zeros([n,n])\n",
    "    S = zeros([n,n])\n",
    "    for i in range(n):\n",
    "        S[i,i] = sin(theta)**(i)\n",
    "        for j in range(i+1,n):\n",
    "            R[i,j] = c\n",
    "        R[i,i] = 1\n",
    "    A = (S@R).T @ (S@R)\n",
    "    return A"
   ]
  },
  {
   "cell_type": "code",
   "execution_count": 60,
   "id": "c0ddb7a6",
   "metadata": {
    "ExecuteTime": {
     "end_time": "2022-10-03T12:39:17.543882Z",
     "start_time": "2022-10-03T12:39:17.472163Z"
    }
   },
   "outputs": [
    {
     "name": "stdout",
     "output_type": "stream",
     "text": [
      "QR \n",
      "\n",
      "Q: \n",
      " [[-0.70710678 -0.70710678  0.          0.        ]\n",
      " [-0.70710678  0.70710678  0.          0.        ]\n",
      " [-0.         -0.         -0.70710678 -0.70710678]\n",
      " [-0.         -0.         -0.70710678  0.70710678]]\n",
      "R: \n",
      " [[-1.41421356e+00 -1.41421356e+00 -1.41421356e+00 -1.41421356e+00]\n",
      " [ 0.00000000e+00 -4.74426853e-17 -4.74426853e-17 -4.74426853e-17]\n",
      " [ 0.00000000e+00  0.00000000e+00 -1.41421356e+00 -1.41421356e+00]\n",
      " [ 0.00000000e+00  0.00000000e+00  0.00000000e+00 -4.74426853e-17]]\n",
      "SVD \n",
      "\n",
      "U: \n",
      " [[-6.01500955e-01 -3.71748034e-01  7.07106781e-01 -1.57009246e-16]\n",
      " [-6.01500955e-01 -3.71748034e-01 -7.07106781e-01  1.57009246e-16]\n",
      " [-3.71748034e-01  6.01500955e-01 -4.59869434e-17 -7.07106781e-01]\n",
      " [-3.71748034e-01  6.01500955e-01  6.50353591e-17  7.07106781e-01]]\n",
      "S: \n",
      " [3.23606798e+00 1.23606798e+00 8.56077361e-17 1.21534533e-48]\n",
      "V: \n",
      " [[-3.71748034e-01 -6.01500955e-01  7.07106781e-01 -0.00000000e+00]\n",
      " [-3.71748034e-01 -6.01500955e-01 -7.07106781e-01  6.99362418e-17]\n",
      " [-6.01500955e-01  3.71748034e-01 -8.18949491e-17  7.07106781e-01]\n",
      " [-6.01500955e-01  3.71748034e-01 -8.18949491e-17 -7.07106781e-01]]\n",
      "LU \n",
      "\n",
      "L: \n",
      " [[1. 0. 0. 0.]\n",
      " [1. 1. 0. 0.]\n",
      " [0. 0. 1. 0.]\n",
      " [0. 0. 1. 1.]]\n",
      "U: \n",
      " [[1. 1. 1. 1.]\n",
      " [0. 0. 0. 0.]\n",
      " [0. 0. 1. 1.]\n",
      " [0. 0. 0. 0.]]\n",
      "Rank: 90\n"
     ]
    }
   ],
   "source": [
    "A = random.rand(5,5)\n",
    "\n",
    "tA = Kahan(1.2,90)\n",
    "\n",
    "linalg.qr(A)\n",
    "\n",
    "B = [[1,1,1,1],\n",
    "     [1,1,1,1],\n",
    "     [0,0,1,1],\n",
    "     [0,0,1,1]]\n",
    "\n",
    "\n",
    "Q,R = linalg.qr(B)\n",
    "print(\"QR \\n\")\n",
    "print(\"Q: \\n\",Q)\n",
    "print(\"R: \\n\",R)\n",
    "\n",
    "U,S,V = linalg.svd(B)\n",
    "\n",
    "print(\"SVD \\n\")\n",
    "print(\"U: \\n\",U)\n",
    "print(\"S: \\n\",S)\n",
    "print(\"V: \\n\",V.T)\n",
    "\n",
    "_,L,U = sl.lu(B)\n",
    "\n",
    "print(\"LU \\n\")\n",
    "print(\"L: \\n\",L)\n",
    "print(\"U: \\n\",U)\n",
    "\n",
    "print(\"Rank:\",linalg.matrix_rank(A))"
   ]
  }
 ],
 "metadata": {
  "kernelspec": {
   "display_name": "Python 3 (ipykernel)",
   "language": "python",
   "name": "python3"
  },
  "language_info": {
   "codemirror_mode": {
    "name": "ipython",
    "version": 3
   },
   "file_extension": ".py",
   "mimetype": "text/x-python",
   "name": "python",
   "nbconvert_exporter": "python",
   "pygments_lexer": "ipython3",
   "version": "3.9.7"
  },
  "latex_envs": {
   "LaTeX_envs_menu_present": true,
   "autoclose": false,
   "autocomplete": true,
   "bibliofile": "biblio.bib",
   "cite_by": "apalike",
   "current_citInitial": 1,
   "eqLabelWithNumbers": true,
   "eqNumInitial": 1,
   "hotkeys": {
    "equation": "Ctrl-E",
    "itemize": "Ctrl-I"
   },
   "labels_anchors": false,
   "latex_user_defs": false,
   "report_style_numbering": false,
   "user_envs_cfg": false
  },
  "varInspector": {
   "cols": {
    "lenName": 16,
    "lenType": 16,
    "lenVar": 40
   },
   "kernels_config": {
    "python": {
     "delete_cmd_postfix": "",
     "delete_cmd_prefix": "del ",
     "library": "var_list.py",
     "varRefreshCmd": "print(var_dic_list())"
    },
    "r": {
     "delete_cmd_postfix": ") ",
     "delete_cmd_prefix": "rm(",
     "library": "var_list.r",
     "varRefreshCmd": "cat(var_dic_list()) "
    }
   },
   "types_to_exclude": [
    "module",
    "function",
    "builtin_function_or_method",
    "instance",
    "_Feature"
   ],
   "window_display": false
  }
 },
 "nbformat": 4,
 "nbformat_minor": 5
}
